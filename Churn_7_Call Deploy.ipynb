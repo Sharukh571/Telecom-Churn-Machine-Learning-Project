{
 "cells": [
  {
   "cell_type": "code",
   "execution_count": 1,
   "metadata": {},
   "outputs": [],
   "source": [
    "import pandas as pd\n",
    "from sklearn.externals import joblib"
   ]
  },
  {
   "cell_type": "code",
   "execution_count": 2,
   "metadata": {},
   "outputs": [],
   "source": [
    "# Sequence & Structure of data to be fed\n",
    "#1.c_AreaCode {0: 408, 1:415, 2:510}\n",
    "#2.c_InternationalPlan {0:no, 1:yes}\n",
    "#3.c_State {Sorted alphabetical and code ranges from 0 to 50 - a total of 51 states}\n",
    "#4.c_VMailPlan {0:no, 1:yes}\n",
    "#5.q_AccountLength {numeric - int,float}\n",
    "#6.q_CustServCalls {numeric - int,float}\n",
    "#7.q_DayCalls {numeric - int,float}\n",
    "#8.q_DayMins {numeric - int,float}\n",
    "#9.q_EveCalls {numeric - int,float}\n",
    "#10.q_EveMins {numeric - int,float}\n",
    "#11.q_InternationalMins {numeric - int,float}\n",
    "#12.q_Internationalcalls {numeric - int,float}\n",
    "#13.q_NightCalls {numeric - int,float}\n",
    "#14.q_NightMins {numeric - int,float}\n",
    "#15.q_VMailMessage {numeric - int,float}"
   ]
  },
  {
   "cell_type": "code",
   "execution_count": 3,
   "metadata": {},
   "outputs": [],
   "source": [
    "model = joblib.load('Churn_model_Trained.ml')"
   ]
  },
  {
   "cell_type": "code",
   "execution_count": 35,
   "metadata": {},
   "outputs": [],
   "source": [
    "Input = pd.DataFrame({'c_AreaCode' : [1],\n",
    "                      'c_InternationalPlan' : [0],\n",
    "                      'c_State' : [15],\n",
    "                      'c_VMailPlan' : [0],\n",
    "                      'q_AccountLength' : [125],\n",
    "                      'q_CustServCalls' : [4], \n",
    "                      'q_DayCalls' : [137],\n",
    "                      'q_DayMins' : [129.1],\n",
    "                      'q_EveCalls' : [83],\n",
    "                      'q_EveMins' : [228.5],\n",
    "                      'q_InternationalMins' : [12.7],\n",
    "                      'q_Internationalcalls' : [6],\n",
    "                      'q_NightCalls' : [111],\n",
    "                      'q_NightMins' : [208.8],\n",
    "                      'q_VMailMessage' : [0]})"
   ]
  },
  {
   "cell_type": "code",
   "execution_count": 36,
   "metadata": {},
   "outputs": [
    {
     "data": {
      "text/plain": [
       "array([1], dtype=int64)"
      ]
     },
     "execution_count": 36,
     "metadata": {},
     "output_type": "execute_result"
    }
   ],
   "source": [
    "model.predict(Input)"
   ]
  },
  {
   "cell_type": "code",
   "execution_count": 6,
   "metadata": {},
   "outputs": [
    {
     "data": {
      "text/plain": [
       "array([[0.02569717, 0.9743028 ]], dtype=float32)"
      ]
     },
     "execution_count": 6,
     "metadata": {},
     "output_type": "execute_result"
    }
   ],
   "source": [
    "model.predict_proba(Input)"
   ]
  },
  {
   "cell_type": "code",
   "execution_count": null,
   "metadata": {},
   "outputs": [],
   "source": []
  }
 ],
 "metadata": {
  "kernelspec": {
   "display_name": "Python 3",
   "language": "python",
   "name": "python3"
  },
  "language_info": {
   "codemirror_mode": {
    "name": "ipython",
    "version": 3
   },
   "file_extension": ".py",
   "mimetype": "text/x-python",
   "name": "python",
   "nbconvert_exporter": "python",
   "pygments_lexer": "ipython3",
   "version": "3.7.1"
  }
 },
 "nbformat": 4,
 "nbformat_minor": 2
}
