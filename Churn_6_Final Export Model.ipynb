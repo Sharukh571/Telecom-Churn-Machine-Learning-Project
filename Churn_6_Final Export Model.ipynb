{
 "cells": [
  {
   "cell_type": "markdown",
   "metadata": {},
   "source": [
    "# Optimize XG Boost - parameters / hyper parameters"
   ]
  },
  {
   "cell_type": "code",
   "execution_count": 1,
   "metadata": {},
   "outputs": [],
   "source": [
    "import pandas as pd\n",
    "import numpy as np\n",
    "import researchpy as rp\n",
    "from scipy import stats\n",
    "\n",
    "import matplotlib.pyplot as plt\n",
    "from matplotlib import rcParams\n",
    "import seaborn as sb"
   ]
  },
  {
   "cell_type": "code",
   "execution_count": 2,
   "metadata": {},
   "outputs": [],
   "source": [
    "#  Find no. of factors in y\n",
    "from collections import Counter\n",
    "# label encoding\n",
    "from sklearn.preprocessing import LabelEncoder, StandardScaler,OneHotEncoder\n",
    "#from sklearn.decomposition import PCA"
   ]
  },
  {
   "cell_type": "code",
   "execution_count": 3,
   "metadata": {},
   "outputs": [],
   "source": [
    "# Import All classifcation Algorithms\n",
    "from xgboost import XGBClassifier"
   ]
  },
  {
   "cell_type": "code",
   "execution_count": 4,
   "metadata": {},
   "outputs": [],
   "source": [
    "from sklearn.model_selection import train_test_split, GridSearchCV,cross_val_score,validation_curve,KFold"
   ]
  },
  {
   "cell_type": "code",
   "execution_count": 5,
   "metadata": {},
   "outputs": [],
   "source": [
    "# Metrics selection\n",
    "from sklearn.metrics import  accuracy_score, recall_score, confusion_matrix,precision_recall_fscore_support,classification_report,roc_curve"
   ]
  },
  {
   "cell_type": "code",
   "execution_count": 6,
   "metadata": {},
   "outputs": [],
   "source": [
    "from sklearn.externals import joblib"
   ]
  },
  {
   "cell_type": "code",
   "execution_count": 7,
   "metadata": {},
   "outputs": [
    {
     "data": {
      "text/html": [
       "<div>\n",
       "<style scoped>\n",
       "    .dataframe tbody tr th:only-of-type {\n",
       "        vertical-align: middle;\n",
       "    }\n",
       "\n",
       "    .dataframe tbody tr th {\n",
       "        vertical-align: top;\n",
       "    }\n",
       "\n",
       "    .dataframe thead th {\n",
       "        text-align: right;\n",
       "    }\n",
       "</style>\n",
       "<table border=\"1\" class=\"dataframe\">\n",
       "  <thead>\n",
       "    <tr style=\"text-align: right;\">\n",
       "      <th></th>\n",
       "      <th>c_AreaCode</th>\n",
       "      <th>c_InternationalPlan</th>\n",
       "      <th>c_State</th>\n",
       "      <th>c_VMailPlan</th>\n",
       "      <th>q_AccountLength</th>\n",
       "      <th>q_CustServCalls</th>\n",
       "      <th>q_DayCalls</th>\n",
       "      <th>q_DayMins</th>\n",
       "      <th>q_EveCalls</th>\n",
       "      <th>q_EveMins</th>\n",
       "      <th>q_InternationalMins</th>\n",
       "      <th>q_Internationalcalls</th>\n",
       "      <th>q_NightCalls</th>\n",
       "      <th>q_NightMins</th>\n",
       "      <th>q_VMailMessage</th>\n",
       "      <th>y_Churn</th>\n",
       "    </tr>\n",
       "  </thead>\n",
       "  <tbody>\n",
       "    <tr>\n",
       "      <th>0</th>\n",
       "      <td>1</td>\n",
       "      <td>0</td>\n",
       "      <td>16</td>\n",
       "      <td>1</td>\n",
       "      <td>128</td>\n",
       "      <td>1</td>\n",
       "      <td>110</td>\n",
       "      <td>265.1</td>\n",
       "      <td>99</td>\n",
       "      <td>197.4</td>\n",
       "      <td>10.0</td>\n",
       "      <td>3</td>\n",
       "      <td>91</td>\n",
       "      <td>244.7</td>\n",
       "      <td>25</td>\n",
       "      <td>0</td>\n",
       "    </tr>\n",
       "    <tr>\n",
       "      <th>1</th>\n",
       "      <td>1</td>\n",
       "      <td>0</td>\n",
       "      <td>35</td>\n",
       "      <td>1</td>\n",
       "      <td>107</td>\n",
       "      <td>1</td>\n",
       "      <td>123</td>\n",
       "      <td>161.6</td>\n",
       "      <td>103</td>\n",
       "      <td>195.5</td>\n",
       "      <td>13.7</td>\n",
       "      <td>3</td>\n",
       "      <td>103</td>\n",
       "      <td>254.4</td>\n",
       "      <td>26</td>\n",
       "      <td>0</td>\n",
       "    </tr>\n",
       "    <tr>\n",
       "      <th>2</th>\n",
       "      <td>1</td>\n",
       "      <td>0</td>\n",
       "      <td>31</td>\n",
       "      <td>0</td>\n",
       "      <td>137</td>\n",
       "      <td>0</td>\n",
       "      <td>114</td>\n",
       "      <td>243.4</td>\n",
       "      <td>110</td>\n",
       "      <td>121.2</td>\n",
       "      <td>12.2</td>\n",
       "      <td>5</td>\n",
       "      <td>104</td>\n",
       "      <td>162.6</td>\n",
       "      <td>0</td>\n",
       "      <td>0</td>\n",
       "    </tr>\n",
       "    <tr>\n",
       "      <th>3</th>\n",
       "      <td>0</td>\n",
       "      <td>1</td>\n",
       "      <td>35</td>\n",
       "      <td>0</td>\n",
       "      <td>84</td>\n",
       "      <td>2</td>\n",
       "      <td>71</td>\n",
       "      <td>299.4</td>\n",
       "      <td>88</td>\n",
       "      <td>61.9</td>\n",
       "      <td>6.6</td>\n",
       "      <td>7</td>\n",
       "      <td>89</td>\n",
       "      <td>196.9</td>\n",
       "      <td>0</td>\n",
       "      <td>0</td>\n",
       "    </tr>\n",
       "    <tr>\n",
       "      <th>4</th>\n",
       "      <td>1</td>\n",
       "      <td>1</td>\n",
       "      <td>36</td>\n",
       "      <td>0</td>\n",
       "      <td>75</td>\n",
       "      <td>3</td>\n",
       "      <td>113</td>\n",
       "      <td>166.7</td>\n",
       "      <td>122</td>\n",
       "      <td>148.3</td>\n",
       "      <td>10.1</td>\n",
       "      <td>3</td>\n",
       "      <td>121</td>\n",
       "      <td>186.9</td>\n",
       "      <td>0</td>\n",
       "      <td>0</td>\n",
       "    </tr>\n",
       "  </tbody>\n",
       "</table>\n",
       "</div>"
      ],
      "text/plain": [
       "   c_AreaCode  c_InternationalPlan  c_State  c_VMailPlan  q_AccountLength  \\\n",
       "0           1                    0       16            1              128   \n",
       "1           1                    0       35            1              107   \n",
       "2           1                    0       31            0              137   \n",
       "3           0                    1       35            0               84   \n",
       "4           1                    1       36            0               75   \n",
       "\n",
       "   q_CustServCalls  q_DayCalls  q_DayMins  q_EveCalls  q_EveMins  \\\n",
       "0                1         110      265.1          99      197.4   \n",
       "1                1         123      161.6         103      195.5   \n",
       "2                0         114      243.4         110      121.2   \n",
       "3                2          71      299.4          88       61.9   \n",
       "4                3         113      166.7         122      148.3   \n",
       "\n",
       "   q_InternationalMins  q_Internationalcalls  q_NightCalls  q_NightMins  \\\n",
       "0                 10.0                     3            91        244.7   \n",
       "1                 13.7                     3           103        254.4   \n",
       "2                 12.2                     5           104        162.6   \n",
       "3                  6.6                     7            89        196.9   \n",
       "4                 10.1                     3           121        186.9   \n",
       "\n",
       "   q_VMailMessage  y_Churn  \n",
       "0              25        0  \n",
       "1              26        0  \n",
       "2               0        0  \n",
       "3               0        0  \n",
       "4               0        0  "
      ]
     },
     "execution_count": 7,
     "metadata": {},
     "output_type": "execute_result"
    }
   ],
   "source": [
    "# Open files Both files are opened as ny drop or changes in feature will be done is both normal and one hot file\n",
    "df1 = pd.read_csv('OriginalImportedFile_enc_Normal_FE.csv')\n",
    "df1.head()"
   ]
  },
  {
   "cell_type": "code",
   "execution_count": 8,
   "metadata": {},
   "outputs": [],
   "source": [
    "CatVarList1 = ['c_AreaCode', 'c_InternationalPlan','c_State','c_VMailPlan']\n",
    "\n",
    "ConVarList = ['q_AccountLength', 'q_CustServCalls', 'q_DayCalls','q_DayMins', 'q_EveCalls','q_EveMins',\n",
    "              'q_InternationalMins', 'q_Internationalcalls','q_NightCalls', 'q_NightMins', 'q_VMailMessage']\n",
    "OutValList = ['y_Churn']\n",
    "\n",
    "X_All_1 = ['c_AreaCode', 'c_InternationalPlan', 'c_State', 'c_VMailPlan',\n",
    "           'q_AccountLength', 'q_CustServCalls', 'q_DayCalls', 'q_DayMins',\n",
    "           'q_EveCalls', 'q_EveMins', 'q_InternationalMins',\n",
    "           'q_Internationalcalls', 'q_NightCalls', 'q_NightMins', 'q_VMailMessage']"
   ]
  },
  {
   "cell_type": "code",
   "execution_count": 9,
   "metadata": {},
   "outputs": [],
   "source": [
    "# Assign varibale and X and y\n",
    "X1 = df1[X_All_1]\n",
    "y1 = df1[OutValList]\n"
   ]
  },
  {
   "cell_type": "code",
   "execution_count": 10,
   "metadata": {},
   "outputs": [],
   "source": [
    "# Split 80:20\n",
    "split_seed = 10\n",
    "X1_train, X1_test, y1_train, y1_test = train_test_split(X1,y1,random_state=split_seed, test_size=.2)"
   ]
  },
  {
   "cell_type": "markdown",
   "metadata": {},
   "source": [
    "## Scaling done based on EDA analysis. Fit on the Train set, but tranform both transform both training and test set"
   ]
  },
  {
   "cell_type": "code",
   "execution_count": 11,
   "metadata": {},
   "outputs": [
    {
     "name": "stderr",
     "output_type": "stream",
     "text": [
      "E:\\Anaconda3\\lib\\site-packages\\sklearn\\preprocessing\\data.py:625: DataConversionWarning: Data with input dtype int64, float64 were all converted to float64 by StandardScaler.\n",
      "  return self.partial_fit(X, y)\n",
      "E:\\Anaconda3\\lib\\site-packages\\ipykernel_launcher.py:6: DataConversionWarning: Data with input dtype int64, float64 were all converted to float64 by StandardScaler.\n",
      "  \n",
      "E:\\Anaconda3\\lib\\site-packages\\ipykernel_launcher.py:6: SettingWithCopyWarning: \n",
      "A value is trying to be set on a copy of a slice from a DataFrame.\n",
      "Try using .loc[row_indexer,col_indexer] = value instead\n",
      "\n",
      "See the caveats in the documentation: http://pandas.pydata.org/pandas-docs/stable/indexing.html#indexing-view-versus-copy\n",
      "  \n",
      "E:\\Anaconda3\\lib\\site-packages\\pandas\\core\\indexing.py:543: SettingWithCopyWarning: \n",
      "A value is trying to be set on a copy of a slice from a DataFrame.\n",
      "Try using .loc[row_indexer,col_indexer] = value instead\n",
      "\n",
      "See the caveats in the documentation: http://pandas.pydata.org/pandas-docs/stable/indexing.html#indexing-view-versus-copy\n",
      "  self.obj[item] = s\n",
      "E:\\Anaconda3\\lib\\site-packages\\ipykernel_launcher.py:7: DataConversionWarning: Data with input dtype int64, float64 were all converted to float64 by StandardScaler.\n",
      "  import sys\n",
      "E:\\Anaconda3\\lib\\site-packages\\ipykernel_launcher.py:7: SettingWithCopyWarning: \n",
      "A value is trying to be set on a copy of a slice from a DataFrame.\n",
      "Try using .loc[row_indexer,col_indexer] = value instead\n",
      "\n",
      "See the caveats in the documentation: http://pandas.pydata.org/pandas-docs/stable/indexing.html#indexing-view-versus-copy\n",
      "  import sys\n",
      "E:\\Anaconda3\\lib\\site-packages\\pandas\\core\\indexing.py:543: SettingWithCopyWarning: \n",
      "A value is trying to be set on a copy of a slice from a DataFrame.\n",
      "Try using .loc[row_indexer,col_indexer] = value instead\n",
      "\n",
      "See the caveats in the documentation: http://pandas.pydata.org/pandas-docs/stable/indexing.html#indexing-view-versus-copy\n",
      "  self.obj[item] = s\n"
     ]
    }
   ],
   "source": [
    "# Scale the data\n",
    "scaler = StandardScaler()\n",
    "# Fit on train data\n",
    "scaler.fit(X1_train[ConVarList])\n",
    "# Transform both train and test\n",
    "X1_train[ConVarList] = scaler.transform(X1_train[ConVarList])\n",
    "X1_test[ConVarList] = scaler.transform(X1_test[ConVarList])"
   ]
  },
  {
   "cell_type": "markdown",
   "metadata": {},
   "source": [
    "## Final Model"
   ]
  },
  {
   "cell_type": "code",
   "execution_count": 14,
   "metadata": {},
   "outputs": [
    {
     "name": "stderr",
     "output_type": "stream",
     "text": [
      "E:\\Anaconda3\\lib\\site-packages\\sklearn\\preprocessing\\label.py:219: DataConversionWarning: A column-vector y was passed when a 1d array was expected. Please change the shape of y to (n_samples, ), for example using ravel().\n",
      "  y = column_or_1d(y, warn=True)\n",
      "E:\\Anaconda3\\lib\\site-packages\\sklearn\\preprocessing\\label.py:252: DataConversionWarning: A column-vector y was passed when a 1d array was expected. Please change the shape of y to (n_samples, ), for example using ravel().\n",
      "  y = column_or_1d(y, warn=True)\n"
     ]
    },
    {
     "data": {
      "text/plain": [
       "XGBClassifier(base_score=0.5, booster='gbtree', colsample_bylevel=1,\n",
       "       colsample_bytree=0.8, gamma=0.1, learning_rate=0.1,\n",
       "       max_delta_step=0, max_depth=8, min_child_weight=5, missing=None,\n",
       "       n_estimators=100, n_jobs=1, nthread=None,\n",
       "       objective='binary:logistic', random_state=70, reg_alpha=0,\n",
       "       reg_lambda=1, scale_pos_weight=1, scoring='recall', seed=None,\n",
       "       silent=True, subsample=1)"
      ]
     },
     "execution_count": 14,
     "metadata": {},
     "output_type": "execute_result"
    }
   ],
   "source": [
    "model = XGBClassifier(booster='gbtree',\n",
    "                      random_state=70,\n",
    "                      learning_rate=0.1,\n",
    "                      max_depth=8,\n",
    "                      min_child_weight=5,\n",
    "                      gamma = 0.1,\n",
    "                      colsample_bytree=0.8,\n",
    "                      scoring='recall'\n",
    "                     )\n",
    "model.fit(X1_train, y1_train)\n"
   ]
  },
  {
   "cell_type": "markdown",
   "metadata": {},
   "source": [
    "# Important Features"
   ]
  },
  {
   "cell_type": "code",
   "execution_count": 102,
   "metadata": {},
   "outputs": [],
   "source": [
    "ColList=['c_AreaCode', 'c_InternationalPlan', 'c_State', 'c_VMailPlan',\n",
    "       'q_AccountLength', 'q_CustServCalls', 'q_DayCalls', 'q_DayMins',\n",
    "       'q_EveCalls', 'q_EveMins', 'q_InternationalMins',\n",
    "       'q_Internationalcalls', 'q_NightCalls', 'q_NightMins',\n",
    "       'q_VMailMessage']\n",
    "FeatureImportance = pd.DataFrame({'Feature':ColList,'Importance':model.feature_importances_*100})"
   ]
  },
  {
   "cell_type": "code",
   "execution_count": 103,
   "metadata": {},
   "outputs": [],
   "source": [
    "FeatureImportance = FeatureImportance.sort_values(by='Importance', axis=0, ascending=False)"
   ]
  },
  {
   "cell_type": "code",
   "execution_count": 104,
   "metadata": {},
   "outputs": [
    {
     "data": {
      "text/plain": [
       "<matplotlib.axes._subplots.AxesSubplot at 0x19bde8d9518>"
      ]
     },
     "execution_count": 104,
     "metadata": {},
     "output_type": "execute_result"
    },
    {
     "data": {
      "image/png": "[encoded data removed]",
      "text/plain": [
       "<Figure size 720x360 with 1 Axes>"
      ]
     },
     "metadata": {
      "needs_background": "light"
     },
     "output_type": "display_data"
    }
   ],
   "source": [
    "FeatureImportance.plot(x='Feature',\n",
    "            y='Importance',\n",
    "            kind='bar',\n",
    "            grid=True,\n",
    "            title=\"Feature Vs Influence on Model\",\n",
    "            legend = True,\n",
    "            figsize = (10,5)\n",
    "            )"
   ]
  },
  {
   "cell_type": "code",
   "execution_count": 45,
   "metadata": {},
   "outputs": [
    {
     "data": {
      "text/plain": [
       "['Churn_model_Trained.ml']"
      ]
     },
     "execution_count": 45,
     "metadata": {},
     "output_type": "execute_result"
    }
   ],
   "source": [
    "# Dump the churn Model\n",
    "joblib.dump(model,'Churn_model_Trained.ml')"
   ]
  },
  {
   "cell_type": "code",
   "execution_count": null,
   "metadata": {},
   "outputs": [],
   "source": []
  },
  {
   "cell_type": "code",
   "execution_count": null,
   "metadata": {},
   "outputs": [],
   "source": []
  },
  {
   "cell_type": "code",
   "execution_count": null,
   "metadata": {},
   "outputs": [],
   "source": []
  }
 ],
 "metadata": {
  "kernelspec": {
   "display_name": "Python 3",
   "language": "python",
   "name": "python3"
  },
  "language_info": {
   "codemirror_mode": {
    "name": "ipython",
    "version": 3
   },
   "file_extension": ".py",
   "mimetype": "text/x-python",
   "name": "python",
   "nbconvert_exporter": "python",
   "pygments_lexer": "ipython3",
   "version": "3.7.1"
  }
 },
 "nbformat": 4,
 "nbformat_minor": 2
}
